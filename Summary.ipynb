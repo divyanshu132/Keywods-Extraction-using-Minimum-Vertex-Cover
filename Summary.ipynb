{
 "cells": [
  {
   "cell_type": "code",
   "execution_count": 18,
   "metadata": {},
   "outputs": [],
   "source": [
    "import nltk\n",
    "import numpy as np\n",
    "from rake_nltk import Rake\n",
    "r=Rake()\n",
    "sw=[]\n",
    "from nltk.corpus import stopwords\n",
    "sw=set(stopwords.words('english'))\n",
    "\n",
    "from nltk import sent_tokenize\n",
    "f=open(\"CleanTextFile.txt\", \"r\")\n",
    "doc=f.read()\n",
    "doc=sent_tokenize(doc)\n",
    " \n",
    "\n",
    "import RAKE\n",
    "\n",
    "kwn=[]\n",
    "kw=[]\n",
    "\n",
    "for sen in doc:\n",
    "    Rake = RAKE.Rake(RAKE.SmartStopList())\n",
    "    r.extract_keywords_from_text(sen)\n",
    "    b=r.get_ranked_phrases()\n",
    "    kw.append(b)\n",
    "    kwn.append(len(b))\n",
    "\n",
    "\n",
    "\n",
    "keyw=kw\n",
    "\n",
    "mat=[]\n",
    "x=[]\n",
    "for i in range(len(doc)):\n",
    "    x=[]\n",
    "    for j in range(len(doc)):\n",
    "        x.append(0)\n",
    "    mat.append(x)\n",
    "\n",
    "\n",
    "for i in range(len(keyw)):\n",
    "    flag=0\n",
    "    x=[]\n",
    "    for j in range(len(keyw[i])):\n",
    "        for k in range(len(keyw)):\n",
    "            if keyw[i][j] in keyw[k] and i!=k:\n",
    "                mat[i][k]=1\n",
    "        \n",
    "\n",
    "graph=dict()\n",
    "for i in range(len(doc)):\n",
    "    graph.setdefault(i,[])\n",
    "\n",
    "for key in graph:\n",
    "    if key==0:\n",
    "        graph[key].append(len(doc)-1)\n",
    "    else:\n",
    "        graph[key].append(key-1)\n",
    "    if key==len(doc)-1:\n",
    "        graph[key].append(0)\n",
    "    else:\n",
    "        graph[key].append(key+1)\n",
    "\n",
    "for i in range(len(doc)):\n",
    "    for j in range(len(doc)):\n",
    "        if mat[i][j]==1 and j not in graph[i] and i!=j:\n",
    "            graph[i].append(j)\n",
    "\n",
    "\n",
    "fmat=[]\n",
    "for i in range(len(doc)):\n",
    "    x=[]\n",
    "    for j in range(len(doc)):\n",
    "        x.append(0)\n",
    "    fmat.append(x)\n",
    "\n",
    "\n",
    "\n",
    "for i in range(len(doc)):\n",
    "    for j in range(len(graph[i])):\n",
    "        fmat[i][graph[i][j]]=1\n",
    "\n",
    "weight=[]\n",
    "for i in range(len(graph)):\n",
    "    s=kwn[i]\n",
    "    for j in range(len(graph[i])):\n",
    "        s=s+kwn[graph[i][j]]\n",
    "    weight.append(s)\n",
    "\n",
    "degree=[]\n",
    "u=0\n",
    "for i in range(len(fmat)):\n",
    "    s=0\n",
    "    for j in range(len(fmat[i])):\n",
    "        if(fmat[i][j]==1):\n",
    "            s=s+1\n",
    "    degree.append(s)\n",
    "\n",
    "\n",
    "temp=[]\n",
    "for i in range(len(degree)):\n",
    "    temp.append(i)\n",
    "\n",
    "for i in range(len(degree)):  \n",
    "    for j in range(0, len(degree)-i-1): \n",
    "        if degree[j] < degree[j+1] : \n",
    "                degree[j], degree[j+1] = degree[j+1], degree[j] \n",
    "                temp[j], temp[j+1] = temp[j+1], temp[j]\n",
    "                weight[j], weight[j+1] = weight[j+1], weight[j]\n",
    "        elif degree[j]==degree[j+1]:\n",
    "            if(weight[j]<weight[j+1]):\n",
    "                degree[j], degree[j+1] = degree[j+1], degree[j] \n",
    "                temp[j], temp[j+1] = temp[j+1], temp[j]\n",
    "                weight[j], weight[j+1] = weight[j+1], weight[j]\n",
    "                \n",
    "\n"
   ]
  },
  {
   "cell_type": "code",
   "execution_count": 19,
   "metadata": {},
   "outputs": [
    {
     "data": {
      "text/plain": [
       "18"
      ]
     },
     "execution_count": 19,
     "metadata": {},
     "output_type": "execute_result"
    }
   ],
   "source": [
    "degree\n",
    "len(degree)"
   ]
  },
  {
   "cell_type": "code",
   "execution_count": 20,
   "metadata": {},
   "outputs": [
    {
     "data": {
      "text/plain": [
       "[2, 14, 17, 7, 13, 12, 3, 16, 0, 4, 10, 5, 8, 9, 1, 11, 15, 6]"
      ]
     },
     "execution_count": 20,
     "metadata": {},
     "output_type": "execute_result"
    }
   ],
   "source": [
    "temp"
   ]
  },
  {
   "cell_type": "code",
   "execution_count": 21,
   "metadata": {},
   "outputs": [
    {
     "data": {
      "text/plain": [
       "[49, 49, 49, 46, 44, 23, 25, 24, 20, 19, 19, 16, 14, 14, 13, 13, 13, 10]"
      ]
     },
     "execution_count": 21,
     "metadata": {},
     "output_type": "execute_result"
    }
   ],
   "source": [
    "weight"
   ]
  },
  {
   "cell_type": "code",
   "execution_count": 22,
   "metadata": {},
   "outputs": [],
   "source": [
    "boolean= [False]*len(temp)"
   ]
  },
  {
   "cell_type": "code",
   "execution_count": 23,
   "metadata": {},
   "outputs": [],
   "source": [
    "summary=[]"
   ]
  },
  {
   "cell_type": "code",
   "execution_count": 24,
   "metadata": {},
   "outputs": [],
   "source": [
    "for i in range(len(temp)):\n",
    "    if boolean[temp[i]]==False:\n",
    "        summary.append(temp[i])\n",
    "        k=k+1\n",
    "        for j in range(len(degree)):\n",
    "            if fmat[temp[i]][j]==1 and boolean[j]==False:\n",
    "                boolean[temp[i]]=True\n",
    "                boolean[j]=True\n",
    "                break\n",
    "    "
   ]
  },
  {
   "cell_type": "code",
   "execution_count": 25,
   "metadata": {},
   "outputs": [
    {
     "data": {
      "text/plain": [
       "[2, 14, 17, 13, 3, 16, 10, 5, 8, 11]"
      ]
     },
     "execution_count": 25,
     "metadata": {},
     "output_type": "execute_result"
    }
   ],
   "source": [
    "summary"
   ]
  },
  {
   "cell_type": "code",
   "execution_count": 26,
   "metadata": {},
   "outputs": [],
   "source": [
    "final_key=[]\n",
    "for i in range(len(summary)):\n",
    "    for j in range(len(keyw[summary[i]])):\n",
    "        if keyw[summary[i]][j] not in final_key:\n",
    "            final_key.append(keyw[summary[i]][j])"
   ]
  },
  {
   "cell_type": "code",
   "execution_count": 27,
   "metadata": {},
   "outputs": [
    {
     "data": {
      "text/plain": [
       "57"
      ]
     },
     "execution_count": 27,
     "metadata": {},
     "output_type": "execute_result"
    }
   ],
   "source": [
    "len(final_key)"
   ]
  },
  {
   "cell_type": "code",
   "execution_count": 28,
   "metadata": {},
   "outputs": [
    {
     "name": "stdout",
     "output_type": "stream",
     "text": [
      "['iiit senapati manipur', 'develop manipur', 'related manpower', 'preferred destination', 'information technology', 'order', 'industry', 'established']\n"
     ]
    }
   ],
   "source": [
    "pref_key=[]\n",
    "n=1 # this can be increased or decreased to get more or less keywords respectively.\n",
    "if n>=len(summary):\n",
    "    print (final_key)\n",
    "else:\n",
    "    for i in range(n):\n",
    "        for j in range(len(keyw[temp[i]])):\n",
    "            if keyw[temp[i]][j] not in pref_key:\n",
    "                pref_key.append(keyw[temp[i]][j])\n",
    "    #print list(set(pref_key))\n",
    "    print (pref_key)"
   ]
  },
  {
   "cell_type": "code",
   "execution_count": null,
   "metadata": {},
   "outputs": [],
   "source": []
  },
  {
   "cell_type": "code",
   "execution_count": null,
   "metadata": {},
   "outputs": [],
   "source": []
  },
  {
   "cell_type": "code",
   "execution_count": null,
   "metadata": {},
   "outputs": [],
   "source": []
  }
 ],
 "metadata": {
  "kernelspec": {
   "display_name": "Python 2",
   "language": "python",
   "name": "python2"
  },
  "language_info": {
   "codemirror_mode": {
    "name": "ipython",
    "version": 3
   },
   "file_extension": ".py",
   "mimetype": "text/x-python",
   "name": "python",
   "nbconvert_exporter": "python",
   "pygments_lexer": "ipython3",
   "version": "3.6.6"
  }
 },
 "nbformat": 4,
 "nbformat_minor": 2
}
